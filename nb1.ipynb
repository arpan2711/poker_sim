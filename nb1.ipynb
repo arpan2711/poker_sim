{
 "cells": [
  {
   "cell_type": "code",
   "execution_count": 14,
   "metadata": {},
   "outputs": [],
   "source": [
    "import random\n",
    "\n",
    "class Deck:\n",
    "    def __init__(self):\n",
    "        self.RANKS = ['2', '3', '4', '5', '6', '7', '8', '9', 'T', 'J', 'Q', 'K', 'A']\n",
    "        self.SUITS = ['♠', '♦', '♣', '♥']\n",
    "        self.cards = [(rank, suit) for rank in self.RANKS for suit in self.SUITS]\n",
    "        \n",
    "    def deal(self, n):\n",
    "        \"\"\"\n",
    "        Deals n random hands from the deck with 2 cards each and returns the hands.\n",
    "        \n",
    "        Parameters:\n",
    "        - n (int): The number of hands to deal.\n",
    "        \n",
    "        Returns:\n",
    "        - hands (list): A list of hands, where each hand is a list of cards.\n",
    "        \"\"\"\n",
    "        hands = []\n",
    "        for _ in range(n):\n",
    "            hand = random.sample(self.cards, 2)\n",
    "            self.cards = [card for card in self.cards if card not in hand]\n",
    "            hands.append(hand)\n",
    "        return hands\n",
    "    \n",
    "    def board(self):\n",
    "        \"\"\"\n",
    "        Returns a random board of 5 cards from the deck.\n",
    "        \n",
    "        Returns:\n",
    "        - board_cards (list): A list of 5 randomly chosen cards.\n",
    "        \"\"\"\n",
    "        board_cards = random.sample(self.cards, 5)\n",
    "        self.cards = [card for card in self.cards if card not in board_cards]\n",
    "        return board_cards\n",
    "    \n",
    "    def remaining(self):\n",
    "        \"\"\"\n",
    "        Returns the remaining cards in the deck.\n",
    "        \n",
    "        Returns:\n",
    "        - remaining_deck (list): The list of remaining cards in the deck.\n",
    "        \"\"\"\n",
    "        return self.cards\n",
    "\n",
    "\n",
    "\n",
    "\n"
   ]
  },
  {
   "cell_type": "code",
   "execution_count": 17,
   "metadata": {},
   "outputs": [
    {
     "name": "stdout",
     "output_type": "stream",
     "text": [
      "[[('T', '♣'), ('3', '♣')], [('Q', '♠'), ('8', '♣')]]\n"
     ]
    },
    {
     "data": {
      "text/plain": [
       "[('Q', '♥'), ('T', '♦'), ('6', '♦'), ('K', '♥'), ('7', '♠')]"
      ]
     },
     "execution_count": 17,
     "metadata": {},
     "output_type": "execute_result"
    }
   ],
   "source": [
    "# Testing\n",
    "deck_instance = Deck()\n",
    "\n",
    "# Dealing 4 random hands\n",
    "hands = deck_instance.deal(2)\n",
    "print(hands)\n",
    "\n",
    "# Getting a board from the remaining deck\n",
    "board_cards = deck_instance.board()\n",
    "board_cards\n"
   ]
  },
  {
   "cell_type": "code",
   "execution_count": null,
   "metadata": {},
   "outputs": [],
   "source": []
  },
  {
   "cell_type": "code",
   "execution_count": 4,
   "metadata": {},
   "outputs": [],
   "source": [
    "hands, remaining_deck = deal(deck, 4)\n",
    "board_cards, updated_deck = board(remaining_deck)"
   ]
  },
  {
   "cell_type": "code",
   "execution_count": 19,
   "metadata": {},
   "outputs": [
    {
     "data": {
      "text/plain": [
       "([[('A', '♠'), ('K', '♠')],\n",
       "  [('9', '♣'), ('A', '♥')],\n",
       "  [('7', '♠'), ('T', '♣')],\n",
       "  [('7', '♦'), ('J', '♦')]],\n",
       " [('6', '♥'), ('8', '♦'), ('A', '♣'), ('Q', '♥'), ('5', '♥')])"
      ]
     },
     "execution_count": 19,
     "metadata": {},
     "output_type": "execute_result"
    }
   ],
   "source": [
    "def simulate_game(starting_hand, n_players):\n",
    "    \"\"\"\n",
    "    Simulates a game with the given starting hand and n players. It returns the starting hands for all players \n",
    "    and the board state.\n",
    "    \n",
    "    Parameters:\n",
    "    - starting_hand (list): The starting hand for the main player.\n",
    "    - n_players (int): The number of players including the main player.\n",
    "    \n",
    "    Returns:\n",
    "    - all_hands (list): A list of starting hands for all players.\n",
    "    - board_cards (list): The board state.\n",
    "    \"\"\"\n",
    "    # Create a deck instance\n",
    "    deck_instance = Deck()\n",
    "    \n",
    "    # Remove the starting hand from the deck\n",
    "    deck_instance.cards = [card for card in deck_instance.cards if card not in starting_hand]\n",
    "    \n",
    "    # Deal hands for the remaining players\n",
    "    other_hands = deck_instance.deal(n_players - 1)\n",
    "    \n",
    "    # Get the board\n",
    "    board_cards = deck_instance.board()\n",
    "    \n",
    "    # Combine the starting hand and other hands\n",
    "    all_hands = [starting_hand] + other_hands\n",
    "    \n",
    "    return all_hands, board_cards\n",
    "\n",
    "# Testing the function with a given starting hand and 4 players in total\n",
    "starting_hand_test = [('A', '♠'), ('K', '♠')]\n",
    "simulate_game(starting_hand_test, 4)\n"
   ]
  },
  {
   "cell_type": "code",
   "execution_count": 20,
   "metadata": {},
   "outputs": [
    {
     "data": {
      "text/plain": [
       "(9, 'Royal Flush')"
      ]
     },
     "execution_count": 20,
     "metadata": {},
     "output_type": "execute_result"
    }
   ],
   "source": [
    "from collections import Counter\n",
    "\n",
    "def is_straight(card_values):\n",
    "    \"\"\"Check if the given card values form a straight.\"\"\"\n",
    "    unique_values = sorted(list(set(card_values)))\n",
    "    if len(unique_values) < 5:\n",
    "        return False\n",
    "    for i in range(len(unique_values) - 4):\n",
    "        if unique_values[i + 4] - unique_values[i] == 4:\n",
    "            return True\n",
    "    # Check for A-2-3-4-5 straight (A can be both high and low)\n",
    "    if set(unique_values[:4]) == set([2, 3, 4, 5]) and 14 in unique_values:\n",
    "        return True\n",
    "    return False\n",
    "\n",
    "def rank_hand(hand, board):\n",
    "    \"\"\"Rank the given hand based on the board cards.\"\"\"\n",
    "    all_cards = hand + board\n",
    "    card_values = [card[0] for card in all_cards]\n",
    "    card_values = [10 if card == 'T' else 11 if card == 'J' else 12 if card == 'Q' \n",
    "                   else 13 if card == 'K' else 14 if card == 'A' else int(card) for card in card_values]\n",
    "    card_suits = [card[1] for card in all_cards]\n",
    "    value_counts = Counter(card_values)\n",
    "    most_common_values = value_counts.most_common()\n",
    "    \n",
    "    # Check for Royal Flush and Straight Flush\n",
    "    for suit in set(card_suits):\n",
    "        suit_values = sorted([card_values[i] for i, card in enumerate(all_cards) if card[1] == suit], reverse=True)\n",
    "        if len(suit_values) >= 5 and is_straight(suit_values):\n",
    "            if max(suit_values) == 14:\n",
    "                return (9, \"Royal Flush\")\n",
    "            return (8, max(suit_values), \"Straight Flush\")\n",
    "    \n",
    "    # Check for Four of a Kind\n",
    "    if most_common_values[0][1] == 4:\n",
    "        return (7, most_common_values[0][0], \"Four of a Kind\")\n",
    "    \n",
    "    # Check for Full House\n",
    "    if most_common_values[0][1] == 3 and most_common_values[1][1] >= 2:\n",
    "        return (6, most_common_values[0][0], most_common_values[1][0], \"Full House\")\n",
    "    \n",
    "    # Check for Flush\n",
    "    for suit in set(card_suits):\n",
    "        suit_values = sorted([card_values[i] for i, card in enumerate(all_cards) if card[1] == suit], reverse=True)\n",
    "        if len(suit_values) >= 5:\n",
    "            return (5, tuple(suit_values[:5]), \"Flush\")\n",
    "    \n",
    "    # Check for Straight\n",
    "    if is_straight(card_values):\n",
    "        return (4, max([v for v in card_values if is_straight([v - i for i in range(5)])]), \"Straight\")\n",
    "    \n",
    "    # Check for Three of a Kind\n",
    "    if most_common_values[0][1] == 3:\n",
    "        return (3, most_common_values[0][0], \"Three of a Kind\")\n",
    "    \n",
    "    # Check for Two Pair\n",
    "    if most_common_values[0][1] == 2 and most_common_values[1][1] == 2:\n",
    "        remaining_values = sorted([v for v in card_values if v != most_common_values[0][0] and v != most_common_values[1][0]], reverse=True)\n",
    "        return (2, most_common_values[0][0], most_common_values[1][0], remaining_values[0], \"Two Pair\")\n",
    "    \n",
    "    # Check for One Pair\n",
    "    if most_common_values[0][1] == 2:\n",
    "        remaining_values = sorted([v for v in card_values if v != most_common_values[0][0]], reverse=True)\n",
    "        return (1, most_common_values[0][0], tuple(remaining_values[:3]), \"One Pair\")\n",
    "    \n",
    "    # High Card\n",
    "    return (0, tuple(sorted(card_values, reverse=True)[:5]), \"High Card\")\n",
    "\n",
    "# Testing the rank_hand function\n",
    "test_hand = [('A', '♠'), ('K', '♠')]\n",
    "test_board = [('Q', '♠'), ('J', '♠'), ('T', '♠'), ('3', '♣'), ('4', '♦')]\n",
    "rank_hand(test_hand, test_board)\n"
   ]
  },
  {
   "cell_type": "code",
   "execution_count": 23,
   "metadata": {},
   "outputs": [
    {
     "data": {
      "text/plain": [
       "'Wins'"
      ]
     },
     "execution_count": 23,
     "metadata": {},
     "output_type": "execute_result"
    }
   ],
   "source": [
    "def determine_outcome(all_hands, board):\n",
    "    \"\"\"Determine if the first hand wins, loses, or ties based on the board.\"\"\"\n",
    "    \n",
    "    # Rank each hand\n",
    "    hand_ranks = [rank_hand(hand, board) for hand in all_hands]\n",
    "    \n",
    "    # Compare ranks to determine the outcome for the first hand\n",
    "    first_hand_rank = hand_ranks[0]\n",
    "    \n",
    "    if all(first_hand_rank > rank for rank in hand_ranks[1:]):\n",
    "        return \"Wins\"\n",
    "    elif any(first_hand_rank < rank for rank in hand_ranks[1:]):\n",
    "        return \"Loses\"\n",
    "    else:\n",
    "        return \"Ties\"\n",
    "\n",
    "# Testing the function\n",
    "all_hands_test, board_test = simulate_game([('A', '♠'), ('K', '♠')], 4)\n",
    "determine_outcome(all_hands_test, board_test)\n"
   ]
  },
  {
   "cell_type": "code",
   "execution_count": 51,
   "metadata": {},
   "outputs": [
    {
     "data": {
      "text/plain": [
       "{'Wins': 11.09, 'Loses': 88.34, 'Ties': 0.5700000000000001}"
      ]
     },
     "execution_count": 51,
     "metadata": {},
     "output_type": "execute_result"
    }
   ],
   "source": [
    "def simulate_outcomes(starting_hand, n_players, n_simulations):\n",
    "    \"\"\"Simulate n games and return the win, loss, and tie percentages for the starting hand.\"\"\"\n",
    "    \n",
    "    outcomes = {\"Wins\": 0, \"Loses\": 0, \"Ties\": 0}\n",
    "    \n",
    "    for _ in range(n_simulations):\n",
    "        all_hands, board = simulate_game(starting_hand, n_players)\n",
    "        outcome = determine_outcome(all_hands, board)\n",
    "        outcomes[outcome] += 1\n",
    "        \n",
    "    # Calculate percentages\n",
    "    for key in outcomes:\n",
    "        outcomes[key] = (outcomes[key] / n_simulations) * 100\n",
    "        \n",
    "    return outcomes\n",
    "\n",
    "# Testing the function with 1000 simulations\n",
    "simulate_outcomes([('2', '♠'), ('2', '♣')], 10, 10000)\n"
   ]
  },
  {
   "cell_type": "code",
   "execution_count": null,
   "metadata": {},
   "outputs": [],
   "source": []
  },
  {
   "cell_type": "code",
   "execution_count": null,
   "metadata": {},
   "outputs": [],
   "source": []
  },
  {
   "cell_type": "code",
   "execution_count": null,
   "metadata": {},
   "outputs": [],
   "source": []
  },
  {
   "cell_type": "code",
   "execution_count": null,
   "metadata": {},
   "outputs": [],
   "source": []
  },
  {
   "cell_type": "code",
   "execution_count": 1,
   "metadata": {},
   "outputs": [
    {
     "ename": "NameError",
     "evalue": "name 'RANKS' is not defined",
     "output_type": "error",
     "traceback": [
      "\u001b[1;31m---------------------------------------------------------------------------\u001b[0m",
      "\u001b[1;31mNameError\u001b[0m                                 Traceback (most recent call last)",
      "\u001b[1;32mc:\\Users\\NiceMan222\\projects88\\poker_sim\\notebook.ipynb Cell 6\u001b[0m line \u001b[0;36m1\n\u001b[0;32m    <a href='vscode-notebook-cell:/c%3A/Users/NiceMan222/projects88/poker_sim/notebook.ipynb#W5sZmlsZQ%3D%3D?line=104'>105</a>\u001b[0m sample_hands \u001b[39m=\u001b[39m [[(\u001b[39m'\u001b[39m\u001b[39mK\u001b[39m\u001b[39m'\u001b[39m, \u001b[39m'\u001b[39m\u001b[39m♠\u001b[39m\u001b[39m'\u001b[39m)], [(\u001b[39m'\u001b[39m\u001b[39mQ\u001b[39m\u001b[39m'\u001b[39m, \u001b[39m'\u001b[39m\u001b[39m♠\u001b[39m\u001b[39m'\u001b[39m), (\u001b[39m'\u001b[39m\u001b[39mJ\u001b[39m\u001b[39m'\u001b[39m, \u001b[39m'\u001b[39m\u001b[39m♠\u001b[39m\u001b[39m'\u001b[39m)]]\n\u001b[0;32m    <a href='vscode-notebook-cell:/c%3A/Users/NiceMan222/projects88/poker_sim/notebook.ipynb#W5sZmlsZQ%3D%3D?line=105'>106</a>\u001b[0m sample_board \u001b[39m=\u001b[39m [(\u001b[39m'\u001b[39m\u001b[39mT\u001b[39m\u001b[39m'\u001b[39m, \u001b[39m'\u001b[39m\u001b[39m♠\u001b[39m\u001b[39m'\u001b[39m), (\u001b[39m'\u001b[39m\u001b[39m9\u001b[39m\u001b[39m'\u001b[39m, \u001b[39m'\u001b[39m\u001b[39m♠\u001b[39m\u001b[39m'\u001b[39m), (\u001b[39m'\u001b[39m\u001b[39m8\u001b[39m\u001b[39m'\u001b[39m, \u001b[39m'\u001b[39m\u001b[39m♠\u001b[39m\u001b[39m'\u001b[39m), (\u001b[39m'\u001b[39m\u001b[39m7\u001b[39m\u001b[39m'\u001b[39m, \u001b[39m'\u001b[39m\u001b[39m♠\u001b[39m\u001b[39m'\u001b[39m), (\u001b[39m'\u001b[39m\u001b[39m6\u001b[39m\u001b[39m'\u001b[39m, \u001b[39m'\u001b[39m\u001b[39m♠\u001b[39m\u001b[39m'\u001b[39m)]\n\u001b[1;32m--> <a href='vscode-notebook-cell:/c%3A/Users/NiceMan222/projects88/poker_sim/notebook.ipynb#W5sZmlsZQ%3D%3D?line=107'>108</a>\u001b[0m winning_hands(sample_hands, sample_board)\n",
      "\u001b[1;32mc:\\Users\\NiceMan222\\projects88\\poker_sim\\notebook.ipynb Cell 6\u001b[0m line \u001b[0;36m8\n\u001b[0;32m     <a href='vscode-notebook-cell:/c%3A/Users/NiceMan222/projects88/poker_sim/notebook.ipynb#W5sZmlsZQ%3D%3D?line=82'>83</a>\u001b[0m \u001b[39mfor\u001b[39;00m hand \u001b[39min\u001b[39;00m hands:\n\u001b[0;32m     <a href='vscode-notebook-cell:/c%3A/Users/NiceMan222/projects88/poker_sim/notebook.ipynb#W5sZmlsZQ%3D%3D?line=83'>84</a>\u001b[0m     combined_cards \u001b[39m=\u001b[39m hand \u001b[39m+\u001b[39m board_cards\n\u001b[1;32m---> <a href='vscode-notebook-cell:/c%3A/Users/NiceMan222/projects88/poker_sim/notebook.ipynb#W5sZmlsZQ%3D%3D?line=84'>85</a>\u001b[0m     rank, high_cards \u001b[39m=\u001b[39m hand_strength(combined_cards)\n\u001b[0;32m     <a href='vscode-notebook-cell:/c%3A/Users/NiceMan222/projects88/poker_sim/notebook.ipynb#W5sZmlsZQ%3D%3D?line=85'>86</a>\u001b[0m     \u001b[39mif\u001b[39;00m rank \u001b[39m<\u001b[39m best_rank:\n\u001b[0;32m     <a href='vscode-notebook-cell:/c%3A/Users/NiceMan222/projects88/poker_sim/notebook.ipynb#W5sZmlsZQ%3D%3D?line=86'>87</a>\u001b[0m         best_rank \u001b[39m=\u001b[39m rank\n",
      "\u001b[1;32mc:\\Users\\NiceMan222\\projects88\\poker_sim\\notebook.ipynb Cell 6\u001b[0m line \u001b[0;36m1\n\u001b[0;32m     <a href='vscode-notebook-cell:/c%3A/Users/NiceMan222/projects88/poker_sim/notebook.ipynb#W5sZmlsZQ%3D%3D?line=12'>13</a>\u001b[0m value_counts \u001b[39m=\u001b[39m Counter(values)\n\u001b[0;32m     <a href='vscode-notebook-cell:/c%3A/Users/NiceMan222/projects88/poker_sim/notebook.ipynb#W5sZmlsZQ%3D%3D?line=13'>14</a>\u001b[0m suit_counts \u001b[39m=\u001b[39m Counter(suits)\n\u001b[1;32m---> <a href='vscode-notebook-cell:/c%3A/Users/NiceMan222/projects88/poker_sim/notebook.ipynb#W5sZmlsZQ%3D%3D?line=14'>15</a>\u001b[0m sorted_values \u001b[39m=\u001b[39m \u001b[39msorted\u001b[39;49m(value_counts, key\u001b[39m=\u001b[39;49m\u001b[39mlambda\u001b[39;49;00m x: (value_counts[x], RANKS\u001b[39m.\u001b[39;49mindex(x)), reverse\u001b[39m=\u001b[39;49m\u001b[39mTrue\u001b[39;49;00m)\n\u001b[0;32m     <a href='vscode-notebook-cell:/c%3A/Users/NiceMan222/projects88/poker_sim/notebook.ipynb#W5sZmlsZQ%3D%3D?line=16'>17</a>\u001b[0m \u001b[39m# Check for flushes and straights\u001b[39;00m\n\u001b[0;32m     <a href='vscode-notebook-cell:/c%3A/Users/NiceMan222/projects88/poker_sim/notebook.ipynb#W5sZmlsZQ%3D%3D?line=17'>18</a>\u001b[0m flush \u001b[39m=\u001b[39m \u001b[39many\u001b[39m(count \u001b[39m>\u001b[39m\u001b[39m=\u001b[39m \u001b[39m5\u001b[39m \u001b[39mfor\u001b[39;00m count \u001b[39min\u001b[39;00m suit_counts\u001b[39m.\u001b[39mvalues())\n",
      "\u001b[1;32mc:\\Users\\NiceMan222\\projects88\\poker_sim\\notebook.ipynb Cell 6\u001b[0m line \u001b[0;36m1\n\u001b[0;32m     <a href='vscode-notebook-cell:/c%3A/Users/NiceMan222/projects88/poker_sim/notebook.ipynb#W5sZmlsZQ%3D%3D?line=12'>13</a>\u001b[0m value_counts \u001b[39m=\u001b[39m Counter(values)\n\u001b[0;32m     <a href='vscode-notebook-cell:/c%3A/Users/NiceMan222/projects88/poker_sim/notebook.ipynb#W5sZmlsZQ%3D%3D?line=13'>14</a>\u001b[0m suit_counts \u001b[39m=\u001b[39m Counter(suits)\n\u001b[1;32m---> <a href='vscode-notebook-cell:/c%3A/Users/NiceMan222/projects88/poker_sim/notebook.ipynb#W5sZmlsZQ%3D%3D?line=14'>15</a>\u001b[0m sorted_values \u001b[39m=\u001b[39m \u001b[39msorted\u001b[39m(value_counts, key\u001b[39m=\u001b[39m\u001b[39mlambda\u001b[39;00m x: (value_counts[x], RANKS\u001b[39m.\u001b[39mindex(x)), reverse\u001b[39m=\u001b[39m\u001b[39mTrue\u001b[39;00m)\n\u001b[0;32m     <a href='vscode-notebook-cell:/c%3A/Users/NiceMan222/projects88/poker_sim/notebook.ipynb#W5sZmlsZQ%3D%3D?line=16'>17</a>\u001b[0m \u001b[39m# Check for flushes and straights\u001b[39;00m\n\u001b[0;32m     <a href='vscode-notebook-cell:/c%3A/Users/NiceMan222/projects88/poker_sim/notebook.ipynb#W5sZmlsZQ%3D%3D?line=17'>18</a>\u001b[0m flush \u001b[39m=\u001b[39m \u001b[39many\u001b[39m(count \u001b[39m>\u001b[39m\u001b[39m=\u001b[39m \u001b[39m5\u001b[39m \u001b[39mfor\u001b[39;00m count \u001b[39min\u001b[39;00m suit_counts\u001b[39m.\u001b[39mvalues())\n",
      "\u001b[1;31mNameError\u001b[0m: name 'RANKS' is not defined"
     ]
    }
   ],
   "source": [
    "from collections import Counter\n",
    "\n",
    "def hand_strength(hand):\n",
    "    \"\"\"\n",
    "    Evaluates the strength of a hand.\n",
    "    Returns a tuple (ranking, high_cards) where:\n",
    "    - ranking is an integer from 1 to 10 (Royal Flush to High Card).\n",
    "    - high_cards is a list of cards used to break ties.\n",
    "    \"\"\"\n",
    "    # Pre-process the cards\n",
    "    values = [card[0] for card in hand]\n",
    "    suits = [card[1] for card in hand]\n",
    "    value_counts = Counter(values)\n",
    "    suit_counts = Counter(suits)\n",
    "    sorted_values = sorted(value_counts, key=lambda x: (value_counts[x], RANKS.index(x)), reverse=True)\n",
    "    \n",
    "    # Check for flushes and straights\n",
    "    flush = any(count >= 5 for count in suit_counts.values())\n",
    "    consecutive = 0\n",
    "    prev_rank = None\n",
    "    for rank in RANKS[::-1]:  # Start from Ace and go down\n",
    "        if rank in values:\n",
    "            if prev_rank and RANKS.index(rank) == RANKS.index(prev_rank) - 1:\n",
    "                consecutive += 1\n",
    "            else:\n",
    "                consecutive = 1\n",
    "            prev_rank = rank\n",
    "            if consecutive == 5:\n",
    "                break\n",
    "    \n",
    "    straight = consecutive >= 5\n",
    "    if straight and 'A' in values and '2' in values and '3' in values and '4' in values and '5' in values:\n",
    "        straight = True\n",
    "        sorted_values = ['5', '4', '3', '2', 'A']\n",
    "    \n",
    "    # Royal Flush\n",
    "    if flush and straight and sorted_values == ['A', 'K', 'Q', 'J', 'T']:\n",
    "        return (1, sorted_values)\n",
    "    # Straight Flush\n",
    "    if flush and straight:\n",
    "        return (2, sorted_values[:5])\n",
    "    # Four of a Kind\n",
    "    if 4 in value_counts.values():\n",
    "        quad = [val for val, count in value_counts.items() if count == 4][0]\n",
    "        return (3, [quad] + [v for v in sorted_values if v != quad])\n",
    "    # Full House\n",
    "    if 3 in value_counts.values() and 2 in value_counts.values():\n",
    "        trips = [val for val, count in value_counts.items() if count == 3][0]\n",
    "        pair = [val for val, count in value_counts.items() if count == 2][0]\n",
    "        return (4, [trips, pair])\n",
    "    # Flush\n",
    "    if flush:\n",
    "        flush_suit = [suit for suit, count in suit_counts.items() if count >= 5][0]\n",
    "        flush_values = sorted([card[0] for card in hand if card[1] == flush_suit], key=lambda x: RANKS.index(x), reverse=True)\n",
    "        return (5, flush_values[:5])\n",
    "    # Straight\n",
    "    if straight:\n",
    "        return (6, sorted_values[:5])\n",
    "    # Three of a Kind\n",
    "    if 3 in value_counts.values():\n",
    "        trips = [val for val, count in value_counts.items() if count == 3][0]\n",
    "        return (7, [trips] + [v for v in sorted_values if v != trips][:2])\n",
    "    # Two Pair\n",
    "    if list(value_counts.values()).count(2) >= 2:\n",
    "        pairs = [val for val, count in value_counts.items() if count == 2]\n",
    "        return (8, pairs + [v for v in sorted_values if v not in pairs][:1])\n",
    "    # One Pair\n",
    "    if 2 in value_counts.values():\n",
    "        pair = [val for val, count in value_counts.items() if count == 2][0]\n",
    "        return (9, [pair] + [v for v in sorted_values if v != pair][:3])\n",
    "    # High Card\n",
    "    return (10, sorted_values[:5])\n",
    "\n",
    "\n",
    "def winning_hands(hands, board_cards):\n",
    "    \"\"\"\n",
    "    Determine the winning hand(s) from a list of hands given the board cards.\n",
    "    \"\"\"\n",
    "    best_rank = 11  # Start with a value outside of the possible ranks\n",
    "    winners = []\n",
    "    best_high_cards = None\n",
    "    \n",
    "    for hand in hands:\n",
    "        combined_cards = hand + board_cards\n",
    "        rank, high_cards = hand_strength(combined_cards)\n",
    "        if rank < best_rank:\n",
    "            best_rank = rank\n",
    "            winners = [hand]\n",
    "            best_high_cards = high_cards\n",
    "        elif rank == best_rank:\n",
    "            # Tiebreaker based on high cards\n",
    "            for i in range(5):\n",
    "                if RANKS.index(high_cards[i]) > RANKS.index(best_high_cards[i]):\n",
    "                    winners = [hand]\n",
    "                    best_high_cards = high_cards\n",
    "                    break\n",
    "                elif RANKS.index(high_cards[i]) < RANKS.index(best_high_cards[i]):\n",
    "                    break\n",
    "            else:\n",
    "                winners.append(hand)\n",
    "    \n",
    "    return winners\n",
    "\n",
    "# Testing with a sample scenario\n",
    "sample_hands = [[('K', '♠')], [('Q', '♠'), ('J', '♠')]]\n",
    "sample_board = [('T', '♠'), ('9', '♠'), ('8', '♠'), ('7', '♠'), ('6', '♠')]\n",
    "\n",
    "winning_hands(sample_hands, sample_board)\n"
   ]
  },
  {
   "cell_type": "code",
   "execution_count": 61,
   "metadata": {},
   "outputs": [
    {
     "ename": "IndexError",
     "evalue": "list index out of range",
     "output_type": "error",
     "traceback": [
      "\u001b[1;31m---------------------------------------------------------------------------\u001b[0m",
      "\u001b[1;31mIndexError\u001b[0m                                Traceback (most recent call last)",
      "\u001b[1;32mc:\\Users\\NiceMan222\\projects88\\poker_sim\\notebook.ipynb Cell 7\u001b[0m line \u001b[0;36m5\n\u001b[0;32m     <a href='vscode-notebook-cell:/c%3A/Users/NiceMan222/projects88/poker_sim/notebook.ipynb#X13sZmlsZQ%3D%3D?line=46'>47</a>\u001b[0m     \u001b[39mreturn\u001b[39;00m winners, hand_description(best_rank, best_high_cards)\n\u001b[0;32m     <a href='vscode-notebook-cell:/c%3A/Users/NiceMan222/projects88/poker_sim/notebook.ipynb#X13sZmlsZQ%3D%3D?line=48'>49</a>\u001b[0m \u001b[39m# Testing with the previous sample scenario\u001b[39;00m\n\u001b[1;32m---> <a href='vscode-notebook-cell:/c%3A/Users/NiceMan222/projects88/poker_sim/notebook.ipynb#X13sZmlsZQ%3D%3D?line=49'>50</a>\u001b[0m winning_hands([[(\u001b[39m'\u001b[39;49m\u001b[39mA\u001b[39;49m\u001b[39m'\u001b[39;49m, \u001b[39m'\u001b[39;49m\u001b[39m♥\u001b[39;49m\u001b[39m'\u001b[39;49m), (\u001b[39m'\u001b[39;49m\u001b[39mA\u001b[39;49m\u001b[39m'\u001b[39;49m, \u001b[39m'\u001b[39;49m\u001b[39m♣\u001b[39;49m\u001b[39m'\u001b[39;49m)],\n\u001b[0;32m     <a href='vscode-notebook-cell:/c%3A/Users/NiceMan222/projects88/poker_sim/notebook.ipynb#X13sZmlsZQ%3D%3D?line=50'>51</a>\u001b[0m  [(\u001b[39m'\u001b[39;49m\u001b[39mA\u001b[39;49m\u001b[39m'\u001b[39;49m, \u001b[39m'\u001b[39;49m\u001b[39m♠\u001b[39;49m\u001b[39m'\u001b[39;49m), (\u001b[39m'\u001b[39;49m\u001b[39mA\u001b[39;49m\u001b[39m'\u001b[39;49m, \u001b[39m'\u001b[39;49m\u001b[39m♦\u001b[39;49m\u001b[39m'\u001b[39;49m)],\n\u001b[0;32m     <a href='vscode-notebook-cell:/c%3A/Users/NiceMan222/projects88/poker_sim/notebook.ipynb#X13sZmlsZQ%3D%3D?line=51'>52</a>\u001b[0m  [(\u001b[39m'\u001b[39;49m\u001b[39m4\u001b[39;49m\u001b[39m'\u001b[39;49m, \u001b[39m'\u001b[39;49m\u001b[39m♥\u001b[39;49m\u001b[39m'\u001b[39;49m), (\u001b[39m'\u001b[39;49m\u001b[39mK\u001b[39;49m\u001b[39m'\u001b[39;49m, \u001b[39m'\u001b[39;49m\u001b[39m♦\u001b[39;49m\u001b[39m'\u001b[39;49m)]], \u001b[39m#board\u001b[39;49;00m\n\u001b[0;32m     <a href='vscode-notebook-cell:/c%3A/Users/NiceMan222/projects88/poker_sim/notebook.ipynb#X13sZmlsZQ%3D%3D?line=52'>53</a>\u001b[0m  [(\u001b[39m'\u001b[39;49m\u001b[39m6\u001b[39;49m\u001b[39m'\u001b[39;49m, \u001b[39m'\u001b[39;49m\u001b[39m♦\u001b[39;49m\u001b[39m'\u001b[39;49m), (\u001b[39m'\u001b[39;49m\u001b[39m2\u001b[39;49m\u001b[39m'\u001b[39;49m, \u001b[39m'\u001b[39;49m\u001b[39m♥\u001b[39;49m\u001b[39m'\u001b[39;49m), (\u001b[39m'\u001b[39;49m\u001b[39mJ\u001b[39;49m\u001b[39m'\u001b[39;49m, \u001b[39m'\u001b[39;49m\u001b[39m♦\u001b[39;49m\u001b[39m'\u001b[39;49m), (\u001b[39m'\u001b[39;49m\u001b[39m3\u001b[39;49m\u001b[39m'\u001b[39;49m, \u001b[39m'\u001b[39;49m\u001b[39m♥\u001b[39;49m\u001b[39m'\u001b[39;49m), (\u001b[39m'\u001b[39;49m\u001b[39m9\u001b[39;49m\u001b[39m'\u001b[39;49m, \u001b[39m'\u001b[39;49m\u001b[39m♥\u001b[39;49m\u001b[39m'\u001b[39;49m)])\n",
      "\u001b[1;32mc:\\Users\\NiceMan222\\projects88\\poker_sim\\notebook.ipynb Cell 7\u001b[0m line \u001b[0;36m3\n\u001b[0;32m     <a href='vscode-notebook-cell:/c%3A/Users/NiceMan222/projects88/poker_sim/notebook.ipynb#X13sZmlsZQ%3D%3D?line=34'>35</a>\u001b[0m \u001b[39melif\u001b[39;00m rank \u001b[39m==\u001b[39m best_rank:\n\u001b[0;32m     <a href='vscode-notebook-cell:/c%3A/Users/NiceMan222/projects88/poker_sim/notebook.ipynb#X13sZmlsZQ%3D%3D?line=35'>36</a>\u001b[0m     \u001b[39m# Tiebreaker based on high cards\u001b[39;00m\n\u001b[0;32m     <a href='vscode-notebook-cell:/c%3A/Users/NiceMan222/projects88/poker_sim/notebook.ipynb#X13sZmlsZQ%3D%3D?line=36'>37</a>\u001b[0m     \u001b[39mfor\u001b[39;00m i \u001b[39min\u001b[39;00m \u001b[39mrange\u001b[39m(\u001b[39m5\u001b[39m):\n\u001b[1;32m---> <a href='vscode-notebook-cell:/c%3A/Users/NiceMan222/projects88/poker_sim/notebook.ipynb#X13sZmlsZQ%3D%3D?line=37'>38</a>\u001b[0m         \u001b[39mif\u001b[39;00m RANKS\u001b[39m.\u001b[39mindex(high_cards[i]) \u001b[39m>\u001b[39m RANKS\u001b[39m.\u001b[39mindex(best_high_cards[i]):\n\u001b[0;32m     <a href='vscode-notebook-cell:/c%3A/Users/NiceMan222/projects88/poker_sim/notebook.ipynb#X13sZmlsZQ%3D%3D?line=38'>39</a>\u001b[0m             winners \u001b[39m=\u001b[39m [hand]\n\u001b[0;32m     <a href='vscode-notebook-cell:/c%3A/Users/NiceMan222/projects88/poker_sim/notebook.ipynb#X13sZmlsZQ%3D%3D?line=39'>40</a>\u001b[0m             best_high_cards \u001b[39m=\u001b[39m high_cards\n",
      "\u001b[1;31mIndexError\u001b[0m: list index out of range"
     ]
    }
   ],
   "source": [
    "def hand_description(rank, high_cards):\n",
    "    \"\"\"\n",
    "    Returns a description of the hand based on its rank and high cards.\n",
    "    \"\"\"\n",
    "    descriptions = {\n",
    "        1: \"Royal Flush\",\n",
    "        2: \"Straight Flush ending in {}\".format(high_cards[0]),\n",
    "        3: \"Four of a Kind (Quads) of {}\".format(high_cards[0]),\n",
    "        4: \"Full House with {} over {}\".format(high_cards[0], high_cards[1]),\n",
    "        5: \"Flush with high card {}\".format(high_cards[0]),\n",
    "        6: \"Straight ending in {}\".format(high_cards[0]),\n",
    "        7: \"Three of a Kind (Trips) of {}\".format(high_cards[0]),\n",
    "        8: \"Two Pair - {} and {}\".format(high_cards[0], high_cards[1]),\n",
    "        9: \"One Pair of {}\".format(high_cards[0]),\n",
    "        10: \"High Card of {}\".format(high_cards[0])\n",
    "    }\n",
    "    return descriptions[rank]\n",
    "\n",
    "def winning_hands(hands, board_cards):\n",
    "    \"\"\"\n",
    "    Determine the winning hand(s) from a list of hands given the board cards.\n",
    "    Also returns the reason for the win.\n",
    "    \"\"\"\n",
    "    best_rank = 11  # Start with a value outside of the possible ranks\n",
    "    winners = []\n",
    "    best_high_cards = None\n",
    "    \n",
    "    for hand in hands:\n",
    "        combined_cards = hand + board_cards\n",
    "        rank, high_cards = hand_strength(combined_cards)\n",
    "        if rank < best_rank:\n",
    "            best_rank = rank\n",
    "            winners = [hand]\n",
    "            best_high_cards = high_cards\n",
    "        elif rank == best_rank:\n",
    "            # Tiebreaker based on high cards\n",
    "            for i in range(5):\n",
    "                if RANKS.index(high_cards[i]) > RANKS.index(best_high_cards[i]):\n",
    "                    winners = [hand]\n",
    "                    best_high_cards = high_cards\n",
    "                    break\n",
    "                elif RANKS.index(high_cards[i]) < RANKS.index(best_high_cards[i]):\n",
    "                    break\n",
    "            else:\n",
    "                winners.append(hand)\n",
    "    \n",
    "    return winners, hand_description(best_rank, best_high_cards)\n",
    "\n",
    "# Testing with the previous sample scenario\n",
    "winning_hands([[('A', '♥'), ('A', '♣')],\n",
    " [('A', '♠'), ('A', '♦')],\n",
    " [('4', '♥'), ('K', '♦')]], #board\n",
    " [('6', '♦'), ('2', '♥'), ('J', '♦'), ('3', '♥'), ('9', '♥')])\n"
   ]
  },
  {
   "cell_type": "code",
   "execution_count": 55,
   "metadata": {},
   "outputs": [
    {
     "data": {
      "text/plain": [
       "[('6', '♦'), ('A', '♥'), ('J', '♦'), ('2', '♥'), ('9', '♥')]"
      ]
     },
     "execution_count": 55,
     "metadata": {},
     "output_type": "execute_result"
    }
   ],
   "source": [
    "board_cards"
   ]
  },
  {
   "cell_type": "code",
   "execution_count": 56,
   "metadata": {},
   "outputs": [
    {
     "data": {
      "text/plain": [
       "[[('Q', '♥'), ('3', '♣')],\n",
       " [('7', '♥'), ('A', '♦')],\n",
       " [('4', '♥'), ('K', '♦')],\n",
       " [('9', '♣'), ('T', '♥')]]"
      ]
     },
     "execution_count": 56,
     "metadata": {},
     "output_type": "execute_result"
    }
   ],
   "source": [
    "hands"
   ]
  },
  {
   "cell_type": "code",
   "execution_count": null,
   "metadata": {},
   "outputs": [],
   "source": []
  },
  {
   "cell_type": "code",
   "execution_count": null,
   "metadata": {},
   "outputs": [],
   "source": []
  },
  {
   "cell_type": "code",
   "execution_count": null,
   "metadata": {},
   "outputs": [],
   "source": []
  }
 ],
 "metadata": {
  "kernelspec": {
   "display_name": "Python 3",
   "language": "python",
   "name": "python3"
  },
  "language_info": {
   "codemirror_mode": {
    "name": "ipython",
    "version": 3
   },
   "file_extension": ".py",
   "mimetype": "text/x-python",
   "name": "python",
   "nbconvert_exporter": "python",
   "pygments_lexer": "ipython3",
   "version": "3.11.4"
  },
  "orig_nbformat": 4
 },
 "nbformat": 4,
 "nbformat_minor": 2
}
